{
 "cells": [
  {
   "cell_type": "code",
   "execution_count": null,
   "id": "fc2e30ce",
   "metadata": {},
   "outputs": [],
   "source": [
    "def game_fild(field): # Печатаем в консоли игровое поле\n",
    "    print('―'*10)\n",
    "    print(f'│{field(0)}│{field(1)}│{field(2)}│')\n",
    "    print(f'│{field(3)}│{field(4)}│{field(5)}│')\n",
    "    print(f'│{field(6)}│{field(7)}│{field(8)}│')\n",
    "    print('―'*10)"
   ]
  }
 ],
 "metadata": {
  "kernelspec": {
   "display_name": "Python 3",
   "language": "python",
   "name": "python3"
  },
  "language_info": {
   "codemirror_mode": {
    "name": "ipython",
    "version": 3
   },
   "file_extension": ".py",
   "mimetype": "text/x-python",
   "name": "python",
   "nbconvert_exporter": "python",
   "pygments_lexer": "ipython3",
   "version": "3.8.8"
  }
 },
 "nbformat": 4,
 "nbformat_minor": 5
}
