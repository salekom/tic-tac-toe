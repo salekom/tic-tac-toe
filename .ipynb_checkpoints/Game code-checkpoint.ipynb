{
 "cells": [
  {
   "cell_type": "code",
   "execution_count": null,
   "id": "3f895d2d",
   "metadata": {},
   "outputs": [],
   "source": [
    "def game_fild(field): # Print game`s field in console\n",
    "    print('―'*10)\n",
    "    print(f'│{field(0)}│{field(1)}│{field(2)}│')\n",
    "    print(f'│{field(3)}│{field(4)}│{field(5)}│')\n",
    "    print(f'│{field(6)}│{field(7)}│{field(8)}│')\n",
    "    print('―'*10)\n",
    "\n",
    "    \n",
    "def player_turn(step, check=False): # Player turn function\n",
    "    while not check:\n",
    "        if step == 'X':\n",
    "            player_move = input('Первый игрок. Введите номер поля (число от 1 до 9) для хода крестиком \"Х\" - ')\n",
    "        elif step == 'O':\n",
    "            player_move = input('Второй игрок. Введите номер поля (число от 1 до 9) для хода ноликом \"О\" - ')\n",
    "        if player_move.isalpha():\n",
    "            print('Вы ввели символ вместо числа. Повторите ввод.')\n",
    "            continue\n",
    "        player_move = int(player_move)\n",
    "        if (player_move >= 1) and (player_answer <= 9):\n",
    "            if(str(field[player_move]) != 'X') or (str(field[player_move] != 'O'):\n",
    "                field[player_move] = step\n",
    "                check = True\n",
    "            else:\n",
    "                print('Поле занято! Повторите ввод.')\n",
    "        else:\n",
    "            print('Вы ввели неправильное число. Введите число от 1 до 9.\")\n",
    "\n",
    "\n",
    "def verification(field): # Verifying for a winning combination\n",
    "    jackpots = ((0,1,2), (3,4,5), (6,7,8), (0,3,6), (1,4,7), (2,5,8), (0,4,8), (2,4,6)) # win triples\n",
    "    for triple in jackpots:\n",
    "        if field[triple[0]] == field[triple[1]] == field[triple[2]]: # if all fields in triple is equale\n",
    "            return bfield[triple[2]]                                 # rerurn win`s symbol,\n",
    "    return False                                                     # otherwise game continues.\n",
    "\n"
   ]
  }
 ],
 "metadata": {
  "kernelspec": {
   "display_name": "Python 3",
   "language": "python",
   "name": "python3"
  },
  "language_info": {
   "codemirror_mode": {
    "name": "ipython",
    "version": 3
   },
   "file_extension": ".py",
   "mimetype": "text/x-python",
   "name": "python",
   "nbconvert_exporter": "python",
   "pygments_lexer": "ipython3",
   "version": "3.8.8"
  }
 },
 "nbformat": 4,
 "nbformat_minor": 5
}
